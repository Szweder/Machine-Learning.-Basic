{
  "cells": [
    {
      "cell_type": "markdown",
      "id": "92039288",
      "metadata": {
        "id": "92039288"
      },
      "source": [
        "# Домашнее задание №7: Визуализация данных\n",
        "\n",
        "**Цель:** выполнить анализ и визуализацию данных с помощью pandas, numpy, matplotlib и seaborn."
      ]
    },
    {
      "cell_type": "markdown",
      "id": "3c946084",
      "metadata": {
        "id": "3c946084"
      },
      "source": [
        "## Часть 1: Загрузка и очистка данных"
      ]
    },
    {
      "cell_type": "code",
      "execution_count": null,
      "id": "d54da0f0",
      "metadata": {
        "id": "d54da0f0"
      },
      "outputs": [],
      "source": [
        "import pandas as pd\n",
        "import numpy as np\n",
        "import matplotlib.pyplot as plt\n",
        "import seaborn as sns\n",
        "\n",
        "# Загрузка данных\n",
        "url = 'https://raw.githubusercontent.com/OtusTeam/ML-Basic-2024-11/main/homework_07/births.csv'\n",
        "births = pd.read_csv(url)\n",
        "births.head()"
      ]
    },
    {
      "cell_type": "code",
      "execution_count": null,
      "id": "7b573fad",
      "metadata": {
        "id": "7b573fad"
      },
      "outputs": [],
      "source": [
        "# Приведение к датам и очистка данных\n",
        "births['date'] = pd.to_datetime(births[['year', 'month', 'day']])\n",
        "births = births.dropna()\n",
        "births = births[births['births'] > 0]\n",
        "births.info()"
      ]
    },
    {
      "cell_type": "markdown",
      "id": "98276385",
      "metadata": {
        "id": "98276385"
      },
      "source": [
        "## Часть 2: Исследование данных и базовая визуализация"
      ]
    },
    {
      "cell_type": "code",
      "execution_count": null,
      "id": "d888e7a5",
      "metadata": {
        "id": "d888e7a5"
      },
      "outputs": [],
      "source": [
        "# Распределение количества рождений\n",
        "plt.figure(figsize=(10, 6))\n",
        "sns.histplot(births['births'], bins=50, kde=True)\n",
        "plt.title('Распределение количества рождений')\n",
        "plt.xlabel('Количество рождений')\n",
        "plt.ylabel('Частота')\n",
        "plt.show()"
      ]
    },
    {
      "cell_type": "code",
      "execution_count": null,
      "id": "d6c5ea9b",
      "metadata": {
        "id": "d6c5ea9b"
      },
      "outputs": [],
      "source": [
        "# Среднее число рождений по дням недели\n",
        "births['weekday'] = births['date'].dt.dayofweek\n",
        "weekday_births = births.groupby('weekday')['births'].mean()\n",
        "\n",
        "plt.figure(figsize=(8, 5))\n",
        "weekday_births.plot(kind='bar')\n",
        "plt.title('Среднее число рождений по дням недели')\n",
        "plt.xlabel('День недели (0=Пн)')\n",
        "plt.ylabel('Среднее число рождений')\n",
        "plt.show()"
      ]
    },
    {
      "cell_type": "markdown",
      "id": "daa3ecce",
      "metadata": {
        "id": "daa3ecce"
      },
      "source": [
        "## Часть 3: Продвинутая визуализация и выводы"
      ]
    },
    {
      "cell_type": "code",
      "execution_count": null,
      "id": "59052205",
      "metadata": {
        "id": "59052205"
      },
      "outputs": [],
      "source": [
        "# Тепловая карта рождений по дням и месяцам\n",
        "births['day'] = births['date'].dt.day\n",
        "births['month'] = births['date'].dt.month\n",
        "pivot_table = births.pivot_table(index='day', columns='month', values='births', aggfunc='mean')\n",
        "\n",
        "plt.figure(figsize=(12, 8))\n",
        "sns.heatmap(pivot_table, cmap='coolwarm', annot=False)\n",
        "plt.title('Среднее количество рождений по дням и месяцам')\n",
        "plt.xlabel('Месяц')\n",
        "plt.ylabel('День')\n",
        "plt.show()"
      ]
    },
    {
      "cell_type": "markdown",
      "id": "a7f43db3",
      "metadata": {
        "id": "a7f43db3"
      },
      "source": [
        "### 📌 Выводы\n",
        "- Распределение рождений приближено к нормальному.\n",
        "- Наименьшее количество рождений в выходные дни (особенно воскресенье).\n",
        "- Летом и осенью рождений больше, чем в другие месяцы.\n",
        "- Тепловая карта выявляет пики в конце лета и начале осени."
      ]
    }
  ],
  "metadata": {
    "colab": {
      "provenance": []
    }
  },
  "nbformat": 4,
  "nbformat_minor": 5
}