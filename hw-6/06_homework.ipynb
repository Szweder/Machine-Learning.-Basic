{
  "nbformat": 4,
  "nbformat_minor": 0,
  "metadata": {
    "colab": {
      "provenance": []
    },
    "kernelspec": {
      "name": "python3",
      "display_name": "Python 3"
    },
    "language_info": {
      "name": "python"
    }
  },
  "cells": [
    {
      "cell_type": "markdown",
      "source": [
        "# Домашнее задание 06\n",
        "## Пишем классы и плодим наследников\n",
        "\n",
        "**Цель:**  \n",
        "Написать базовый класс и сделать наследников, которые будут реализовывать различные методы.\n",
        "\n",
        "**Задачи:**  \n",
        "- Объявить пользовательские исключения\n",
        "- Спроектировать и реализовать иерархию классов `Vehicle`, `Car`, `Plane`\n",
        "- Продумать поведение методов `start`, `move`, `set_engine`, `load_cargo`, `remove_all_cargo`\n"
      ],
      "metadata": {
        "id": "ZBkMoh9oT94C"
      }
    },
    {
      "cell_type": "code",
      "source": [
        "# exceptions.py\n",
        "\n",
        "class LowFuelError(Exception):\n",
        "    \"\"\"Вызывается, когда недостаточно топлива для запуска двигателя.\"\"\"\n",
        "    pass\n",
        "\n",
        "class NotEnoughFuel(Exception):\n",
        "    \"\"\"Вызывается, когда топлива недостаточно для движения.\"\"\"\n",
        "    pass\n",
        "\n",
        "class CargoOverload(Exception):\n",
        "    \"\"\"Вызывается при попытке загрузить груз сверх допустимого.\"\"\"\n",
        "    pass\n"
      ],
      "metadata": {
        "id": "OEk37_yLVMLs"
      },
      "execution_count": null,
      "outputs": []
    },
    {
      "cell_type": "code",
      "source": [
        "# engine.py\n",
        "\n",
        "from dataclasses import dataclass\n",
        "\n",
        "@dataclass\n",
        "class Engine:\n",
        "    volume: float\n",
        "    pistons: int\n"
      ],
      "metadata": {
        "id": "wvqWYOA5VQnz"
      },
      "execution_count": null,
      "outputs": []
    },
    {
      "cell_type": "code",
      "source": [
        "# base.py\n",
        "\n",
        "from exceptions import LowFuelError, NotEnoughFuel\n",
        "\n",
        "class Vehicle:\n",
        "    def __init__(self, weight=0, fuel=0, fuel_consumption=1):\n",
        "        self.weight = weight\n",
        "        self.started = False\n",
        "        self.fuel = fuel\n",
        "        self.fuel_consumption = fuel_consumption\n",
        "\n",
        "    def start(self):\n",
        "        if not self.started:\n",
        "            if self.fuel > 0:\n",
        "                self.started = True\n",
        "            else:\n",
        "                raise LowFuelError(\"Недостаточно топлива для запуска.\")\n",
        "\n",
        "    def move(self, distance):\n",
        "        required_fuel = distance * self.fuel_consumption\n",
        "        if self.fuel >= required_fuel:\n",
        "            self.fuel -= required_fuel\n",
        "        else:\n",
        "            raise NotEnoughFuel(\"Недостаточно топлива для движения.\")\n"
      ],
      "metadata": {
        "id": "5PZUhz7vVUS6"
      },
      "execution_count": null,
      "outputs": []
    },
    {
      "cell_type": "code",
      "source": [
        "# car.py\n",
        "\n",
        "from base import Vehicle\n",
        "\n",
        "class Car(Vehicle):\n",
        "    def __init__(self, weight=0, fuel=0, fuel_consumption=1):\n",
        "        super().__init__(weight, fuel, fuel_consumption)\n",
        "        self.engine = None\n",
        "\n",
        "    def set_engine(self, engine):\n",
        "        \"\"\"Устанавливает двигатель на машину.\"\"\"\n",
        "        self.engine = engine\n"
      ],
      "metadata": {
        "id": "MwwX8n-rVWnT"
      },
      "execution_count": null,
      "outputs": []
    },
    {
      "cell_type": "code",
      "source": [
        "# plane.py\n",
        "\n",
        "from base import Vehicle\n",
        "from exceptions import CargoOverload\n",
        "\n",
        "class Plane(Vehicle):\n",
        "    def __init__(self, weight=0, fuel=0, fuel_consumption=1, max_cargo=0):\n",
        "        super().__init__(weight, fuel, fuel_consumption)\n",
        "        self.max_cargo = max_cargo\n",
        "        self.cargo = 0\n",
        "\n",
        "    def load_cargo(self, amount):\n",
        "        if self.cargo + amount > self.max_cargo:\n",
        "            raise CargoOverload(\"Превышен лимит груза.\")\n",
        "        self.cargo += amount\n",
        "\n",
        "    def remove_all_cargo(self):\n",
        "        previous_cargo = self.cargo\n",
        "        self.cargo = 0\n",
        "        return previous_cargo\n"
      ],
      "metadata": {
        "id": "6A8vuwaVVYmT"
      },
      "execution_count": null,
      "outputs": []
    },
    {
      "cell_type": "code",
      "source": [
        "# Примеры использования\n",
        "\n",
        "from car import Car\n",
        "from engine import Engine\n",
        "from plane import Plane\n",
        "from exceptions import *\n",
        "\n",
        "# Создаем объект Car\n",
        "car = Car(weight=1200, fuel=50, fuel_consumption=0.2)\n",
        "car.set_engine(Engine(volume=2.0, pistons=4))\n",
        "car.start()\n",
        "car.move(100)  # потратится 20 топлива\n",
        "\n",
        "# Создаем объект Plane\n",
        "plane = Plane(weight=5000, fuel=1000, fuel_consumption=5, max_cargo=2000)\n",
        "plane.load_cargo(1500)\n",
        "print(\"Загружено:\", plane.cargo)\n",
        "print(\"Снято:\", plane.remove_all_cargo())\n"
      ],
      "metadata": {
        "id": "a7-biYFkVa6M"
      },
      "execution_count": null,
      "outputs": []
    }
  ]
}